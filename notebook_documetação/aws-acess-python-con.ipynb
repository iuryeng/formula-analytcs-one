{
 "cells": [
  {
   "cell_type": "markdown",
   "metadata": {},
   "source": [
    "## Testando sua conexão aws com o jupyter notebook\n",
    " >projeto: Formula_Analitycs_One\n",
    " \n",
    " >propósito do script: conectar clound AWS para o jupyter notebook"
   ]
  },
  {
   "cell_type": "markdown",
   "metadata": {},
   "source": [
    "#### 1.importe o pymysql"
   ]
  },
  {
   "cell_type": "code",
   "execution_count": 17,
   "metadata": {},
   "outputs": [],
   "source": [
    "#importe o pymysql\n",
    "\n",
    "import pymysql"
   ]
  },
  {
   "cell_type": "markdown",
   "metadata": {},
   "source": [
    "#### 2.defina as variáveis de conexão"
   ]
  },
  {
   "cell_type": "code",
   "execution_count": 18,
   "metadata": {},
   "outputs": [],
   "source": [
    "#variáveis globais de conexão com o banco de dados Mysql on AWS\n",
    "\n",
    "AWS_DB_HOST = 'database-1.c2hbzw6k9btq.us-east-2.rds.amazonaws.com'\n",
    "AWS_DB_USER = 'admin'\n",
    "AWS_DB_PASS = 'mysqladmin1509'\n",
    "AWS_DB_NAME = 'FORMULA1'"
   ]
  },
  {
   "cell_type": "markdown",
   "metadata": {},
   "source": [
    "#### 3.teste a conexão"
   ]
  },
  {
   "cell_type": "code",
   "execution_count": 48,
   "metadata": {},
   "outputs": [
    {
     "data": {
      "text/plain": [
       "<pymysql.connections.Connection at 0x5c65cb0>"
      ]
     },
     "execution_count": 48,
     "metadata": {},
     "output_type": "execute_result"
    }
   ],
   "source": [
    "pymysql.connect(host=AWS_DB_HOST,\n",
    "                       user=AWS_DB_USER,\n",
    "                       password=AWS_DB_PASS,\n",
    "                       database=AWS_DB_NAME\n",
    "                       )"
   ]
  },
  {
   "cell_type": "markdown",
   "metadata": {},
   "source": [
    "#### 4. defina um banco de dados chamado dbF1 "
   ]
  },
  {
   "cell_type": "code",
   "execution_count": 23,
   "metadata": {},
   "outputs": [],
   "source": [
    "# executando a conexão com o banco de acordo com as variáveis de conexão \n",
    "# defina o dbF1 \n",
    "\n",
    "dbF1 = pymysql.connect(host=AWS_DB_HOST,\n",
    "                       user=AWS_DB_USER,\n",
    "                       password=AWS_DB_PASS,\n",
    "                       database=AWS_DB_NAME\n",
    "                       )"
   ]
  },
  {
   "cell_type": "markdown",
   "metadata": {},
   "source": [
    "#### 5. Use o python para processar dados no banco "
   ]
  },
  {
   "cell_type": "code",
   "execution_count": 25,
   "metadata": {},
   "outputs": [],
   "source": [
    "# definindo um cursor\n",
    "\n",
    "cursor = dbF1.cursor()"
   ]
  },
  {
   "cell_type": "code",
   "execution_count": 35,
   "metadata": {},
   "outputs": [
    {
     "name": "stdout",
     "output_type": "stream",
     "text": [
      "('8.0.20',)\n"
     ]
    }
   ],
   "source": [
    "# descobrindo a versão do mysql na instancia AWS\n",
    "\n",
    "cursor.execute(\"select version()\")\n",
    "version = cursor.fetchone()\n",
    "print(version)\n"
   ]
  },
  {
   "cell_type": "code",
   "execution_count": 43,
   "metadata": {},
   "outputs": [
    {
     "name": "stdout",
     "output_type": "stream",
     "text": [
      "1058\n"
     ]
    }
   ],
   "source": [
    # teste a conexão com o resultado da quantidade de registros na tabela corridas

     sql_select_corridas = '''SELECT * FROM corridas'''
     totalRegistros = cursor.execute(sql_select_corridas)

      print(totalRegistros)
      records = cursor.fetchall()
      records

      import numpy as np

     my_array = np.array(records)
     my_array

     df = pd.DataFrame(my_array)
     df
   ]
  }
 ],
 "metadata": {
  "kernelspec": {
   "display_name": "Python 3",
   "language": "python",
   "name": "python3"
  },
  "language_info": {
   "codemirror_mode": {
    "name": "ipython",
    "version": 3
   },
   "file_extension": ".py",
   "mimetype": "text/x-python",
   "name": "python",
   "nbconvert_exporter": "python",
   "pygments_lexer": "ipython3",
   "version": "3.7.4"
  }
 },
 "nbformat": 4,
 "nbformat_minor": 2
}
